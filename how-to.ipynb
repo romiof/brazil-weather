{
 "cells": [
  {
   "attachments": {},
   "cell_type": "markdown",
   "metadata": {},
   "source": [
    "#### Instal\n",
    "l virtualenv\n",
    "`virtualenv venv`\n",
    "\n",
    "`source venv/bin/activate`\n",
    "\n",
    "`pip install --upgrade pip`\n",
    "\n",
    "`pip install -r requeriments.txt`\n"
   ]
  },
  {
   "attachments": {},
   "cell_type": "markdown",
   "metadata": {},
   "source": [
    "#### Deployment no GCS\n",
    "\n",
    "`~/cursos/brazil-weather$ prefect deployment build ./el_prefect/el_flow.py:main -n flow-test -sb gcs/gcs-prefect/flow-test/ -q test`\n",
    "\n",
    "Notar que `-sb gcs/xxx/yyy/` gcs é o protocolo e dpeois é as pastas no bucket\n",
    "\n",
    "Depois fazer o apply do deployment:\n",
    "\n",
    "`prefect deployment apply main-deployment.yaml`\n",
    "\n",
    "Mesmo se o -sb for um bucket, o YAML fica no PC local"
   ]
  },
  {
   "attachments": {},
   "cell_type": "markdown",
   "metadata": {},
   "source": [
    "#### SSH na VM Linux GCP\n",
    "- Gerar a chave [SSH Publica no Linux pessoal](https://cloud.google.com/compute/docs/connect/create-ssh-keys#create_an_ssh_key_pair):\n",
    "\n",
    "`ssh-keygen -t rsa -f ~/.ssh/KEY_FILENAME -C USERNAME -b 2048`\n",
    "\n",
    "- o -C vai o usuário da máquina linux, como eu logava com francis_romio, mantive isso....\n",
    "\n",
    "- Ir em [Compute  Engine >> Metada >> SSH KEYS](https://console.cloud.google.com/compute/metadata)\n",
    "\n",
    "- Fazer o upload da chave publica gerada.\n",
    "\n",
    "- O IP externo fica nos detalhes da VM >> Network interfaces\n",
    "\n"
   ]
  },
  {
   "attachments": {},
   "cell_type": "markdown",
   "metadata": {},
   "source": [
    "##### Configurar Agent do Prefect\n",
    "\n",
    "`prefect config set PREFECT_API_ENABLE_HTTP2=false`\n",
    "\n",
    "https://github.com/PrefectHQ/prefect/issues/7442\n"
   ]
  },
  {
   "attachments": {},
   "cell_type": "markdown",
   "metadata": {},
   "source": [
    "##### BigQuery External Table\n",
    "\n",
    "```sql\n",
    "CREATE OR REPLACE EXTERNAL TABLE `br_weather.external_weather`\n",
    "OPTIONS (\n",
    "  format = 'PARQUET',\n",
    "  uris = ['gs://zoomcamp-375723-prefect/data-lake/*.parquet']\n",
    ");\n",
    "```"
   ]
  },
  {
   "attachments": {},
   "cell_type": "markdown",
   "metadata": {},
   "source": [
    "#### Iniciar o PREFECT no uso\n",
    "\n",
    "``` sh\n",
    "prefect cloud login -k your-API-goes-here\n",
    "prefect cloud workspace set --workspace $PREFECT_WORKSPACE\n",
    "prefect agent start -q default\n",
    "```"
   ]
  },
  {
   "attachments": {},
   "cell_type": "markdown",
   "metadata": {},
   "source": [
    "#### Deploy Final\n",
    "\n",
    "```sh\n",
    "prefect deployment build elt_flow.py:main_flow -n brazil-weather-flow -sb gcs/gcs-prefect -q default --cron \"0 5 * * *\" -o brazil-weather-flow.yaml\n",
    "```\n",
    "\n",
    "*Configurar Parameters no YAML do Flows*\n",
    "\n",
    "```yaml\n",
    "parameters:\n",
    "  dict_param: {\"BASE_URL\": \"https://portal.inmet.gov.br/uploads/dadoshistoricos/\", \"DEST_DIR\": \"./dump_zips/\", \"FILE_EXT\": \".zip\", \"START_YEAR\": 2023, \"END_YEAR\": 2023}\n",
    "```\n",
    "\n",
    "```yaml\n",
    "parameters:\n",
    "  dict_param:\n",
    "    BASE_URL: https://portal.inmet.gov.br/uploads/dadoshistoricos/\n",
    "    DEST_DIR: ./dump_zips/\n",
    "    END_YEAR: 2023\n",
    "    FILE_EXT: .zip\n",
    "    START_YEAR: 2013\n",
    "```\n",
    "\n",
    "```sh\n",
    "prefect deployment apply brazil-weather-flow.yaml\n",
    "```"
   ]
  }
 ],
 "metadata": {
  "language_info": {
   "name": "python"
  },
  "orig_nbformat": 4
 },
 "nbformat": 4,
 "nbformat_minor": 2
}
